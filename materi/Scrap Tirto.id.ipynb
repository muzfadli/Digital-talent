{
 "cells": [
  {
   "cell_type": "code",
   "execution_count": 61,
   "metadata": {},
   "outputs": [],
   "source": [
    "import requests\n",
    "from bs4 import BeautifulSoup\n",
    "import json\n",
    "from openpyxl import Workbook\n",
    "import time\n",
    "\n",
    "wb = Workbook()\n",
    "ws = wb.active"
   ]
  },
  {
   "cell_type": "code",
   "execution_count": 62,
   "metadata": {},
   "outputs": [],
   "source": [
    "def crawl_link(i):\n",
    "    print(\"Crawling Page \"+str(i))\n",
    "    page = requests.get(\"https://tirto.id/indeks/\"+str(i))\n",
    "    html_page = page.content\n",
    "    soup = BeautifulSoup(html_page, \"lxml\")\n",
    "    links = soup.find_all('script')\n",
    "    isi_script = links[4].text.replace('window.__NUXT__=','')[:-1]\n",
    "    article = json.loads(isi_script)\n",
    "    for a in article['data'][0]['listarticle']:\n",
    "        ws.append([a['articleUrl'],a['date_news']])\n",
    "    time.sleep(2)"
   ]
  },
  {
   "cell_type": "code",
   "execution_count": 63,
   "metadata": {},
   "outputs": [
    {
     "name": "stdout",
     "output_type": "stream",
     "text": [
      "Crawling Page 1\n",
      "Crawling Page 2\n",
      "Crawling Page 3\n",
      "Crawling Page 4\n",
      "Crawling Page 5\n",
      "Crawling Page 6\n",
      "Crawling Page 7\n",
      "Crawling Page 8\n",
      "Crawling Page 9\n",
      "Crawling Page 10\n",
      "Crawling Page 11\n",
      "Crawling Page 12\n",
      "Crawling Page 13\n",
      "Crawling Page 14\n"
     ]
    }
   ],
   "source": [
    "for i in range(1,15):\n",
    "    crawl_link(i)\n",
    "    \n",
    "wb.save(\"tirto.xlsx\")"
   ]
  },
  {
   "cell_type": "code",
   "execution_count": null,
   "metadata": {},
   "outputs": [],
   "source": []
  }
 ],
 "metadata": {
  "kernelspec": {
   "display_name": "Python 3",
   "language": "python",
   "name": "python3"
  },
  "language_info": {
   "codemirror_mode": {
    "name": "ipython",
    "version": 3
   },
   "file_extension": ".py",
   "mimetype": "text/x-python",
   "name": "python",
   "nbconvert_exporter": "python",
   "pygments_lexer": "ipython3",
   "version": "3.7.0"
  }
 },
 "nbformat": 4,
 "nbformat_minor": 2
}
