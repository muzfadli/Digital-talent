{
 "cells": [
  {
   "cell_type": "markdown",
   "metadata": {},
   "source": [
    "# Buat Koneksi ke DB:  conda install -c anaconda sqlalchemy\n",
    "\n",
    "Sebelum melakukan koneksi, kita harus meng-install sqlalchemy melalui perintah:\n"
   ]
  },
  {
   "cell_type": "code",
   "execution_count": 11,
   "metadata": {},
   "outputs": [],
   "source": [
    "import pymysql\n",
    "import pandas as pd\n",
    "from sqlalchemy import create_engine\n",
    "\n",
    "host = 'localhost'\n",
    "port = '3306'\n",
    "username = 'root'\n",
    "password = ''\n",
    "database = 'classicmodels'\n",
    "\n",
    "# Create Connection to database\n",
    "engine = create_engine('mysql+pymysql://'+username+':'+password+'@'+host+':'+port+'/'+database)\n",
    "'''engine = create_engine('mysql+pymysql://root: @localhost:3306/academic')'''\n",
    "\n",
    "def run(sql):\n",
    "    df = pd.read_sql_query(sql, engine)\n",
    "    return df"
   ]
  },
  {
   "cell_type": "markdown",
   "metadata": {},
   "source": [
    "# Konversi CSV ke DataFrame"
   ]
  },
  {
   "cell_type": "code",
   "execution_count": 12,
   "metadata": {},
   "outputs": [],
   "source": [
    "# CSV to DataFrame to MySQL\n",
    "df_fromcsv = pd.read_csv('a_mahasiswa.csv')\n",
    "df_fromcsv.to_sql(name = 'mahasiswa', con = engine, if_exists = 'append', index = False) \n",
    "#if_exists = 'fail' | 'replace' | 'append'"
   ]
  },
  {
   "cell_type": "markdown",
   "metadata": {},
   "source": [
    "# Baca Data dalam tabel"
   ]
  },
  {
   "cell_type": "code",
   "execution_count": 3,
   "metadata": {},
   "outputs": [
    {
     "name": "stdout",
     "output_type": "stream",
     "text": [
      "   ID   Nama\n",
      "0  11    ANI\n",
      "1  22   BUDI\n",
      "2  33  CITRA\n",
      "3  44  DAMAR\n",
      "4  55   ESTI\n"
     ]
    }
   ],
   "source": [
    "# Select all mahasiswa data using run function (pandas)\n",
    "# data in dataframe type\n",
    "df_results = run(\"SELECT * FROM mahasiswa\")\n",
    "print(df_results)"
   ]
  },
  {
   "cell_type": "markdown",
   "metadata": {},
   "source": [
    "# Lakukan penambahan Data dengan Query INSERT"
   ]
  },
  {
   "cell_type": "code",
   "execution_count": 25,
   "metadata": {},
   "outputs": [
    {
     "data": {
      "text/plain": [
       "<sqlalchemy.engine.result.ResultProxy at 0x1b86863bdd8>"
      ]
     },
     "execution_count": 25,
     "metadata": {},
     "output_type": "execute_result"
    }
   ],
   "source": [
    "# Insert with Autocommit\n",
    "engine.execute(\"INSERT INTO mahasiswa VALUES(66, 'FAJAR')\")"
   ]
  },
  {
   "cell_type": "markdown",
   "metadata": {},
   "source": [
    "##  *Insert dengan variabel"
   ]
  },
  {
   "cell_type": "code",
   "execution_count": 31,
   "metadata": {},
   "outputs": [
    {
     "data": {
      "text/plain": [
       "<sqlalchemy.engine.result.ResultProxy at 0x1b86910e518>"
      ]
     },
     "execution_count": 31,
     "metadata": {},
     "output_type": "execute_result"
    }
   ],
   "source": [
    "# Insert with Autocommit\n",
    "id_mhs = '77'\n",
    "nama_mhs = 'GILANG'\n",
    "engine.execute(\"INSERT INTO mahasiswa VALUES(\"+id_mhs+\", '\"+nama_mhs+\"')\")"
   ]
  },
  {
   "cell_type": "markdown",
   "metadata": {},
   "source": [
    "# UPDATE data"
   ]
  },
  {
   "cell_type": "code",
   "execution_count": 17,
   "metadata": {},
   "outputs": [
    {
     "data": {
      "text/plain": [
       "<sqlalchemy.engine.result.ResultProxy at 0x1b867f5a198>"
      ]
     },
     "execution_count": 17,
     "metadata": {},
     "output_type": "execute_result"
    }
   ],
   "source": [
    "# Update with Autocommit\n",
    "engine.execute(\"UPDATE mahasiswa SET Nama = 'Sawabi Zurich Hidayatulloh' WHERE ID=4\")"
   ]
  },
  {
   "cell_type": "markdown",
   "metadata": {},
   "source": [
    "# DELETE"
   ]
  },
  {
   "cell_type": "code",
   "execution_count": 27,
   "metadata": {},
   "outputs": [
    {
     "data": {
      "text/plain": [
       "<sqlalchemy.engine.result.ResultProxy at 0x1b868601978>"
      ]
     },
     "execution_count": 27,
     "metadata": {},
     "output_type": "execute_result"
    }
   ],
   "source": [
    "# Delete with Autocommit\n",
    "engine.execute(\"DELETE FROM mahasiswa WHERE ID=4\")"
   ]
  },
  {
   "cell_type": "markdown",
   "metadata": {},
   "source": [
    "# Data dalam bentuk Tupple"
   ]
  },
  {
   "cell_type": "code",
   "execution_count": 11,
   "metadata": {},
   "outputs": [
    {
     "name": "stdout",
     "output_type": "stream",
     "text": [
      "[(11, 'ANI'), (22, 'BUDI'), (33, 'CITRA'), (44, 'DAMAR'), (55, 'ESTI')]\n"
     ]
    }
   ],
   "source": [
    "# Select all mahasiswa data using sqlalchemy\n",
    "# data in tupple type\n",
    "t_results = engine.execute(\"SELECT * FROM mahasiswa\").fetchall()\n",
    "print(t_results)"
   ]
  },
  {
   "cell_type": "code",
   "execution_count": 12,
   "metadata": {},
   "outputs": [
    {
     "name": "stdout",
     "output_type": "stream",
     "text": [
      "(11, 'ANI')\n"
     ]
    }
   ],
   "source": [
    "# Select only one to row mahasiswa data using sqlalchemy\n",
    "# data in tupple type\n",
    "t_one_result = engine.execute(\"SELECT * FROM mahasiswa\").fetchone()\n",
    "print(t_one_result)"
   ]
  },
  {
   "cell_type": "markdown",
   "metadata": {},
   "source": [
    "# EXPORT Dataframe ke CSV"
   ]
  },
  {
   "cell_type": "code",
   "execution_count": 14,
   "metadata": {},
   "outputs": [],
   "source": [
    "# Export DataFrame consist mahasiswa data to CSV\n",
    "df_results.to_csv('dftocsv_mahasiswa.csv', index=False)"
   ]
  },
  {
   "attachments": {
    "SubQuerySyntax.png": {
     "image/png": "[encoded data removed]"
    }
   },
   "cell_type": "markdown",
   "metadata": {},
   "source": [
    "# SUBQUERY\n",
    "\n",
    "![SubQuerySyntax.png](attachment:SubQuerySyntax.png)"
   ]
  },
  {
   "cell_type": "code",
   "execution_count": 7,
   "metadata": {},
   "outputs": [
    {
     "data": {
      "text/html": [
       "<div>\n",
       "<style scoped>\n",
       "    .dataframe tbody tr th:only-of-type {\n",
       "        vertical-align: middle;\n",
       "    }\n",
       "\n",
       "    .dataframe tbody tr th {\n",
       "        vertical-align: top;\n",
       "    }\n",
       "\n",
       "    .dataframe thead th {\n",
       "        text-align: right;\n",
       "    }\n",
       "</style>\n",
       "<table border=\"1\" class=\"dataframe\">\n",
       "  <thead>\n",
       "    <tr style=\"text-align: right;\">\n",
       "      <th></th>\n",
       "      <th>customerNumber</th>\n",
       "    </tr>\n",
       "  </thead>\n",
       "  <tbody>\n",
       "    <tr>\n",
       "      <th>0</th>\n",
       "      <td>141</td>\n",
       "    </tr>\n",
       "  </tbody>\n",
       "</table>\n",
       "</div>"
      ],
      "text/plain": [
       "   customerNumber\n",
       "0             141"
      ]
     },
     "execution_count": 7,
     "metadata": {},
     "output_type": "execute_result"
    }
   ],
   "source": [
    "run(\"SELECT customerNumber from payments where amount = (Select MAX(amount) from payments)\")"
   ]
  },
  {
   "cell_type": "code",
   "execution_count": 10,
   "metadata": {},
   "outputs": [
    {
     "data": {
      "text/html": [
       "<div>\n",
       "<style scoped>\n",
       "    .dataframe tbody tr th:only-of-type {\n",
       "        vertical-align: middle;\n",
       "    }\n",
       "\n",
       "    .dataframe tbody tr th {\n",
       "        vertical-align: top;\n",
       "    }\n",
       "\n",
       "    .dataframe thead th {\n",
       "        text-align: right;\n",
       "    }\n",
       "</style>\n",
       "<table border=\"1\" class=\"dataframe\">\n",
       "  <thead>\n",
       "    <tr style=\"text-align: right;\">\n",
       "      <th></th>\n",
       "      <th>customerName</th>\n",
       "    </tr>\n",
       "  </thead>\n",
       "  <tbody>\n",
       "    <tr>\n",
       "      <th>0</th>\n",
       "      <td>Euro+ Shopping Channel</td>\n",
       "    </tr>\n",
       "  </tbody>\n",
       "</table>\n",
       "</div>"
      ],
      "text/plain": [
       "             customerName\n",
       "0  Euro+ Shopping Channel"
      ]
     },
     "execution_count": 10,
     "metadata": {},
     "output_type": "execute_result"
    }
   ],
   "source": [
    "run(\"\"\"\n",
    "SELECT\n",
    "    customerName\n",
    "FROM \n",
    "    customers\n",
    "WHERE \n",
    "    customerNumber = \n",
    "    (SELECT customerNumber from payments where amount = (Select MAX(amount) from payments))\"\"\")"
   ]
  },
  {
   "cell_type": "code",
   "execution_count": null,
   "metadata": {},
   "outputs": [],
   "source": []
  }
 ],
 "metadata": {
  "kernelspec": {
   "display_name": "Python 3",
   "language": "python",
   "name": "python3"
  },
  "language_info": {
   "codemirror_mode": {
    "name": "ipython",
    "version": 3
   },
   "file_extension": ".py",
   "mimetype": "text/x-python",
   "name": "python",
   "nbconvert_exporter": "python",
   "pygments_lexer": "ipython3",
   "version": "3.6.4"
  }
 },
 "nbformat": 4,
 "nbformat_minor": 2
}
