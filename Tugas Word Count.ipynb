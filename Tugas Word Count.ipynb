{
 "cells": [
  {
   "cell_type": "markdown",
   "metadata": {},
   "source": [
    "# LATIHAN 3 - Word Count\n",
    "Diberikan sebuah paragraf, hitunglah banyak kemunculan masing-masing kata.\n",
    "Contoh : \"Presiden pagi ini melakukan kunjungan ke Jogja\"\n",
    "\n",
    "- Presiden: 1\n",
    "- pagi: 1\n",
    "- ini: 1\n",
    "- melakukan: 1\n",
    "- kunjungan: 1\n",
    "- ke: 1\n",
    "- Jogja: 1\n",
    "\n",
    "hints: Gunakan Dictionary dalam menyimpan word count. Gunakan kata sebagai key, dan jumlah kemunculan sebagai value"
   ]
  },
  {
   "cell_type": "code",
   "execution_count": 1,
   "metadata": {},
   "outputs": [
    {
     "name": "stdout",
     "output_type": "stream",
     "text": [
      "Barcelona berhasil merebut posisi puncak klasemen La Liga Spanyol seusai menang 4-2 atas Sevilla pada pertandingan pekan kesembilan di Stadion Camp Nou, Sabtu (20/10/2018) atau Minggu dini hari WIB. Barcelona membuka keunggulan pada menit ke-2 melalui gol yang dicetak oleh Philippe Coutinho. Lionel Messi menggandakan keunggulan Barcelona, 10 menit berselang.  Namun, nahas bagi Barcelona, karena Messi harus ditarik keluar pada menit ke-26 setelah mengalami cedera. Tanpa Messi, skor 2-0 bertahan hingga babak pertama berakhir.\n"
     ]
    }
   ],
   "source": [
    "paragraf = \"Barcelona berhasil merebut posisi puncak klasemen La Liga Spanyol seusai menang 4-2 atas Sevilla pada pertandingan pekan kesembilan di Stadion Camp Nou, Sabtu (20/10/2018) atau Minggu dini hari WIB. Barcelona membuka keunggulan pada menit ke-2 melalui gol yang dicetak oleh Philippe Coutinho. Lionel Messi menggandakan keunggulan Barcelona, 10 menit berselang.  Namun, nahas bagi Barcelona, karena Messi harus ditarik keluar pada menit ke-26 setelah mengalami cedera. Tanpa Messi, skor 2-0 bertahan hingga babak pertama berakhir.\"\n",
    "print(paragraf)"
   ]
  },
  {
   "cell_type": "code",
   "execution_count": 17,
   "metadata": {},
   "outputs": [
    {
     "name": "stdout",
     "output_type": "stream",
     "text": [
      "barcelona berhasil merebut posisi puncak klasemen la liga spanyol seusai menang 4-2 atas sevilla pada pertandingan pekan kesembilan di stadion camp nou, sabtu (20/10/2018) atau minggu dini hari wib. barcelona membuka keunggulan pada menit ke-2 melalui gol yang dicetak oleh philippe coutinho. lionel messi menggandakan keunggulan barcelona, 10 menit berselang.  namun, nahas bagi barcelona, karena messi harus ditarik keluar pada menit ke-26 setelah mengalami cedera. tanpa messi, skor 2-0 bertahan hingga babak pertama berakhir.\n"
     ]
    },
    {
     "data": {
      "text/plain": [
       "str"
      ]
     },
     "execution_count": 17,
     "metadata": {},
     "output_type": "execute_result"
    }
   ],
   "source": [
    "paragrafbaru = paragraf.lower()\n",
    "print(paragrafbaru)\n",
    "type(paragrafbaru)"
   ]
  },
  {
   "cell_type": "code",
   "execution_count": 30,
   "metadata": {},
   "outputs": [
    {
     "name": "stdout",
     "output_type": "stream",
     "text": [
      "barcelona 4\n",
      "berhasil 1\n",
      "merebut 1\n",
      "posisi 1\n",
      "puncak 1\n",
      "klasemen 1\n",
      "liga 1\n",
      "spanyol 1\n",
      "seusai 1\n",
      "menang 1\n",
      "atas 1\n",
      "sevilla 1\n",
      "pada 3\n",
      "pertandingan 1\n",
      "pekan 1\n",
      "kesembilan 1\n",
      "stadion 1\n",
      "camp 1\n",
      "nou 1\n",
      "sabtu 1\n",
      "atau 1\n",
      "minggu 1\n",
      "dini 1\n",
      "hari 1\n",
      "wib 1\n",
      "membuka 1\n",
      "keunggulan 2\n",
      "menit 3\n",
      "melalui 1\n",
      "gol 1\n",
      "yang 1\n",
      "dicetak 1\n",
      "oleh 1\n",
      "philippe 1\n",
      "coutinho 1\n",
      "lionel 1\n",
      "messi 3\n",
      "menggandakan 1\n",
      "berselang 1\n",
      "namun 1\n",
      "nahas 1\n",
      "bagi 1\n",
      "karena 1\n",
      "harus 1\n",
      "ditarik 1\n",
      "keluar 1\n",
      "setelah 1\n",
      "mengalami 1\n",
      "cedera 1\n",
      "tanpa 1\n",
      "skor 1\n",
      "bertahan 1\n",
      "hingga 1\n",
      "babak 1\n",
      "pertama 1\n",
      "berakhir 1\n"
     ]
    }
   ],
   "source": [
    "import re\n",
    "frequency = {}\n",
    "match_pattern = re.findall(r'\\b[a-z]{3,15}\\b', paragrafbaru)\n",
    "\n",
    "for word in match_pattern:\n",
    "    count = frequency.get(word,0)\n",
    "    frequency[word] = count + 1\n",
    "    \n",
    "frequency_list = frequency.keys()\n",
    "\n",
    "for words in frequency_list:\n",
    "    print(words, frequency[words])"
   ]
  }
 ],
 "metadata": {
  "kernelspec": {
   "display_name": "Python 3",
   "language": "python",
   "name": "python3"
  },
  "language_info": {
   "codemirror_mode": {
    "name": "ipython",
    "version": 3
   },
   "file_extension": ".py",
   "mimetype": "text/x-python",
   "name": "python",
   "nbconvert_exporter": "python",
   "pygments_lexer": "ipython3",
   "version": "3.7.0"
  }
 },
 "nbformat": 4,
 "nbformat_minor": 2
}
