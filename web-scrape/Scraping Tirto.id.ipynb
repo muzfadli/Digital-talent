{
 "cells": [
  {
   "cell_type": "markdown",
   "metadata": {},
   "source": [
    "# Scraping Tirto.id"
   ]
  },
  {
   "cell_type": "markdown",
   "metadata": {},
   "source": [
    "Pembahasan kali ini adalah bagaimana cara mengambil data yang ada pada website Tirto.id. Perlu diketahui cara ini bisa gagal karena struktur website Tirto.id bisa berubah sewaktu-waktu."
   ]
  },
  {
   "cell_type": "markdown",
   "metadata": {},
   "source": [
    "## 1. Impor library yang dibutuhkan"
   ]
  },
  {
   "cell_type": "code",
   "execution_count": 1,
   "metadata": {},
   "outputs": [],
   "source": [
    "import requests\n",
    "from bs4 import BeautifulSoup\n",
    "import json\n",
    "import pandas as pd\n",
    "import time"
   ]
  },
  {
   "cell_type": "markdown",
   "metadata": {},
   "source": [
    "## 2. Buat fungsi untuk scraping data\n",
    "Website Tirto.id memiliki indeks berita di https://tirto.id/indeks/ ."
   ]
  },
  {
   "cell_type": "code",
   "execution_count": 2,
   "metadata": {},
   "outputs": [],
   "source": [
    "# Fungsi untuk scraping artikel di Tirto.id \n",
    "def crawl_tirtoid(i, dataArtikel):\n",
    "    print(\"Start Scraping Tirto.id Page \" + str(i))\n",
    "\n",
    "    page = requests.get(\"https://tirto.id/indeks/\" + str(i))\n",
    "    htmlPage = page.content    \n",
    "    soup = BeautifulSoup(htmlPage, \"lxml\")\n",
    "    \n",
    "    links = soup.find_all(\"script\")\n",
    "    scriptContent = links[4].text.replace('window.__NUXT__=',\"\")[:-1]\n",
    "    \n",
    "    artikel = json.loads(scriptContent)\n",
    "    \n",
    "    listArtikel = artikel[\"data\"][0][\"listarticle\"]\n",
    "    dataArtikel = dataArtikel + listArtikel\n",
    "    \n",
    "    time.sleep(5)\n",
    "    \n",
    "    return dataArtikel\n",
    "    \n",
    "# Function to save crawled data into CSV files\n",
    "def save_tirtoid(dataArtikel):\n",
    "    dataFrame = pd.DataFrame(dataArtikel)\n",
    "    dataFrame.to_csv(\"Data Tirto.ID.csv\", sep=\";\")\n",
    "    print(\"Selesai !\")\n",
    "    return dataFrame"
   ]
  },
  {
   "cell_type": "markdown",
   "metadata": {},
   "source": [
    "## 3. Mulai jalankan scraping"
   ]
  },
  {
   "cell_type": "code",
   "execution_count": 3,
   "metadata": {},
   "outputs": [
    {
     "name": "stdout",
     "output_type": "stream",
     "text": [
      "Start Scraping Tirto.id Page 1\n",
      "Start Scraping Tirto.id Page 2\n",
      "Start Scraping Tirto.id Page 3\n",
      "Start Scraping Tirto.id Page 4\n",
      "Selesai !\n"
     ]
    }
   ],
   "source": [
    "data = []\n",
    "for i in range(1, 5):\n",
    "    data = crawl_tirtoid(i, data)\n",
    "\n",
    "dataFr = save_tirtoid(data)"
   ]
  }
 ],
 "metadata": {
  "kernelspec": {
   "display_name": "Python 3",
   "language": "python",
   "name": "python3"
  },
  "language_info": {
   "codemirror_mode": {
    "name": "ipython",
    "version": 3
   },
   "file_extension": ".py",
   "mimetype": "text/x-python",
   "name": "python",
   "nbconvert_exporter": "python",
   "pygments_lexer": "ipython3",
   "version": "3.7.0"
  }
 },
 "nbformat": 4,
 "nbformat_minor": 2
}
