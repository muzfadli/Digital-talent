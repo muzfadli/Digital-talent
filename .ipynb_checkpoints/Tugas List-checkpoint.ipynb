{
 "cells": [
  {
   "cell_type": "markdown",
   "metadata": {},
   "source": [
    "# LATIHAN 2\n",
    "\n",
    "Diberikan sekumpulan Nilai Random antara 0 sampai dengan 100 sebanyak 250 nilai. Buatlah program untuk melakukan hal berikut:\n",
    "1. Tampilkan Angka Ganjil dari ke 250 nilai tersebut\n",
    "2. Tampilkan berapa banyak yang mendapatkan nilai lebih dari 70\n",
    "3. Tampilkan standar deviasi dari sekumpulan nilai tersebut\n",
    "4. Tampilkan nilai maksimum dan minimum\n",
    "5. Tampilkan modus dari sekumpulan nilai tersebut"
   ]
  },
  {
   "cell_type": "code",
   "execution_count": 1,
   "metadata": {},
   "outputs": [
    {
     "name": "stdout",
     "output_type": "stream",
     "text": [
      "[41, 34, 94, 56, 53, 85, 99, 70, 11, 75, 36, 6, 60, 32, 9, 95, 92, 51, 95, 81, 64, 67, 22, 22, 35, 84, 91, 41, 68, 80, 26, 6, 25, 69, 33, 96, 35, 86, 80, 55, 10, 6, 89, 80, 20, 5, 60, 45, 33, 54, 86, 36, 77, 94, 36, 50, 39, 74, 47, 46, 38, 90, 24, 26, 81, 72, 40, 73, 55, 93, 54, 64, 9, 91, 63, 73, 84, 69, 28, 39, 84, 70, 56, 86, 47, 7, 63, 31, 72, 87, 85, 81, 28, 20, 11, 43, 85, 31, 63, 13, 58, 49, 42, 59, 55, 89, 36, 24, 46, 81, 7, 61, 51, 29, 35, 57, 47, 54, 32, 78, 58, 65, 5, 64, 92, 9, 20, 89, 30, 72, 84, 4, 19, 36, 37, 45, 39, 82, 49, 2, 5, 60, 82, 67, 57, 39, 72, 8, 31, 29, 83, 41, 69, 33, 59, 83, 47, 44, 9, 90, 2, 69, 1, 6, 32, 98, 14, 28, 54, 59, 23, 23, 97, 79, 89, 81, 31, 33, 25, 52, 36, 81, 29, 30, 34, 9, 3, 18, 44, 9, 16, 75, 21, 13, 73, 89, 75, 85, 79, 73, 22, 84, 23, 89, 32, 68, 7, 85, 99, 98, 76, 42, 29, 98, 70, 31, 3, 54, 78, 59, 11, 85, 3, 4, 98, 52, 96, 50, 7, 68, 39, 81, 98, 12, 60, 94, 37, 24, 85, 47, 8, 75, 94, 3, 54, 12, 16, 23, 87, 44]\n"
     ]
    }
   ],
   "source": [
    "import random\n",
    "\n",
    "# GENERATE RANDOM\n",
    "nilaiTugas = []\n",
    "for i in range(250):\n",
    "    nilaiTugas.append(random.randrange(1,100,1))\n",
    "\n",
    "print(nilaiTugas)\n",
    "\n",
    "# TAMPILKAN:\n",
    "# ganjil\n",
    "# nilai > 70\n",
    "# standar deviasi\n",
    "# maksimum\n",
    "# minimum\n",
    "# modus"
   ]
  },
  {
   "cell_type": "markdown",
   "metadata": {},
   "source": [
    "### 1. Tampilkan Angka Ganjil dari ke 250 nilai tersebut"
   ]
  },
  {
   "cell_type": "code",
   "execution_count": 2,
   "metadata": {},
   "outputs": [
    {
     "name": "stdout",
     "output_type": "stream",
     "text": [
      "41\n",
      "53\n",
      "85\n",
      "99\n",
      "11\n",
      "75\n",
      "9\n",
      "95\n",
      "51\n",
      "95\n",
      "81\n",
      "67\n",
      "35\n",
      "91\n",
      "41\n",
      "25\n",
      "69\n",
      "33\n",
      "35\n",
      "55\n",
      "89\n",
      "5\n",
      "45\n",
      "33\n",
      "77\n",
      "39\n",
      "47\n",
      "81\n",
      "73\n",
      "55\n",
      "93\n",
      "9\n",
      "91\n",
      "63\n",
      "73\n",
      "69\n",
      "39\n",
      "47\n",
      "7\n",
      "63\n",
      "31\n",
      "87\n",
      "85\n",
      "81\n",
      "11\n",
      "43\n",
      "85\n",
      "31\n",
      "63\n",
      "13\n",
      "49\n",
      "59\n",
      "55\n",
      "89\n",
      "81\n",
      "7\n",
      "61\n",
      "51\n",
      "29\n",
      "35\n",
      "57\n",
      "47\n",
      "65\n",
      "5\n",
      "9\n",
      "89\n",
      "19\n",
      "37\n",
      "45\n",
      "39\n",
      "49\n",
      "5\n",
      "67\n",
      "57\n",
      "39\n",
      "31\n",
      "29\n",
      "83\n",
      "41\n",
      "69\n",
      "33\n",
      "59\n",
      "83\n",
      "47\n",
      "9\n",
      "69\n",
      "1\n",
      "59\n",
      "23\n",
      "23\n",
      "97\n",
      "79\n",
      "89\n",
      "81\n",
      "31\n",
      "33\n",
      "25\n",
      "81\n",
      "29\n",
      "9\n",
      "3\n",
      "9\n",
      "75\n",
      "21\n",
      "13\n",
      "73\n",
      "89\n",
      "75\n",
      "85\n",
      "79\n",
      "73\n",
      "23\n",
      "89\n",
      "7\n",
      "85\n",
      "99\n",
      "29\n",
      "31\n",
      "3\n",
      "59\n",
      "11\n",
      "85\n",
      "3\n",
      "7\n",
      "39\n",
      "81\n",
      "37\n",
      "85\n",
      "47\n",
      "75\n",
      "3\n",
      "23\n",
      "87\n"
     ]
    }
   ],
   "source": [
    "for l in nilaiTugas:\n",
    "    if l % 2 == 1:\n",
    "        print(l)"
   ]
  },
  {
   "cell_type": "markdown",
   "metadata": {},
   "source": [
    "### 2. Tampilkan yang mendapatkan nilai lebih dari 70"
   ]
  },
  {
   "cell_type": "code",
   "execution_count": 3,
   "metadata": {},
   "outputs": [
    {
     "name": "stdout",
     "output_type": "stream",
     "text": [
      "82\n"
     ]
    }
   ],
   "source": [
    "nilaibaru = []\n",
    "for m in nilaiTugas:\n",
    "    if m >= 70:\n",
    "        nilaibaru.append(m)\n",
    "print(len(nilaibaru))"
   ]
  },
  {
   "cell_type": "markdown",
   "metadata": {},
   "source": [
    "### 3. Tampilkan Standar Deviasi"
   ]
  },
  {
   "cell_type": "code",
   "execution_count": 5,
   "metadata": {},
   "outputs": [
    {
     "name": "stdout",
     "output_type": "stream",
     "text": [
      "28.803871058449896\n"
     ]
    }
   ],
   "source": [
    "# Algorima Standar Deviasi\n",
    "total = 0\n",
    "for n in nilaiTugas:\n",
    "    total += n\n",
    "rata = total / len(nilaiTugas)\n",
    "\n",
    "stdev = 0\n",
    "for n in nilaiTugas:\n",
    "    stdev += (n - rata)**(2)\n",
    "\n",
    "standardeviasi = (stdev/(len(nilaiTugas)-1))**(0.5)\n",
    "print(standardeviasi)"
   ]
  },
  {
   "cell_type": "code",
   "execution_count": 6,
   "metadata": {},
   "outputs": [
    {
     "name": "stdout",
     "output_type": "stream",
     "text": [
      "28.803871058449896\n"
     ]
    }
   ],
   "source": [
    "# Algorima Standar Deviasi (Menggunakan definisi fungsi)\n",
    "def stdeviasi(nums):\n",
    "    total = 0\n",
    "    for n in nilaiTugas:\n",
    "        total += n\n",
    "    rata = total / len(nilaiTugas)\n",
    "    stdev = 0\n",
    "    for n in nums:\n",
    "        stdev += (n - rata)**(2)\n",
    "    return (stdev/(len(nums)-1))**(0.5)\n",
    "print(stdeviasi(nilaiTugas))"
   ]
  },
  {
   "cell_type": "markdown",
   "metadata": {},
   "source": [
    "### 4. Tampilkan nilai maksimum dan minimum"
   ]
  },
  {
   "cell_type": "code",
   "execution_count": 7,
   "metadata": {},
   "outputs": [
    {
     "name": "stdout",
     "output_type": "stream",
     "text": [
      "Nilai Maksimumnya adalah 99\n",
      "Nilai Minimumnya adalah 1\n"
     ]
    }
   ],
   "source": [
    "# Nilai Maksimum\n",
    "nilai_maks = nilaiTugas[0]\n",
    "for i in nilaiTugas:\n",
    "    if i > nilai_maks:\n",
    "        nilai_maks = i\n",
    "print(\"Nilai Maksimumnya adalah\",nilai_maks)\n",
    "\n",
    "# Nilai Minimum\n",
    "nilai_min = nilaiTugas[0]\n",
    "for ii in nilaiTugas:\n",
    "    if ii < nilai_min:\n",
    "        nilai_min = ii\n",
    "print(\"Nilai Minimumnya adalah\",nilai_min)"
   ]
  },
  {
   "cell_type": "markdown",
   "metadata": {},
   "source": [
    "### 5. Tampilkan modus"
   ]
  },
  {
   "cell_type": "code",
   "execution_count": 8,
   "metadata": {},
   "outputs": [
    {
     "name": "stdout",
     "output_type": "stream",
     "text": [
      "Modus dari data tersebut adalah  [81, 85]\n"
     ]
    }
   ],
   "source": [
    "maks_nilai_sama = 0\n",
    "modus = []\n",
    "nilai_terhitung = {}\n",
    "nilaiTugas.sort()\n",
    "for i in nilaiTugas:\n",
    "    if i in nilai_terhitung.keys():\n",
    "        nilai_terhitung[i] = nilai_terhitung[i] + 1\n",
    "    else:\n",
    "        nilai_terhitung[i] = 1\n",
    "\n",
    "    if nilai_terhitung[i] == maks_nilai_sama:\n",
    "        modus.append(i)\n",
    "    elif nilai_terhitung[i] > maks_nilai_sama:\n",
    "        modus = [i]\n",
    "        maks_nilai_sama = nilai_terhitung[i]\n",
    "modus.sort()\n",
    "print(\"Modus dari data tersebut adalah \", modus)"
   ]
  }
 ],
 "metadata": {
  "kernelspec": {
   "display_name": "Python 3",
   "language": "python",
   "name": "python3"
  },
  "language_info": {
   "codemirror_mode": {
    "name": "ipython",
    "version": 3
   },
   "file_extension": ".py",
   "mimetype": "text/x-python",
   "name": "python",
   "nbconvert_exporter": "python",
   "pygments_lexer": "ipython3",
   "version": "3.7.0"
  }
 },
 "nbformat": 4,
 "nbformat_minor": 2
}
