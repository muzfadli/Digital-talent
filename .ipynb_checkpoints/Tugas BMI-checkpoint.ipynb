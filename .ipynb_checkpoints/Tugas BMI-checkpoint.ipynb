{
 "cells": [
  {
   "cell_type": "markdown",
   "metadata": {},
   "source": [
    "# Tugas program Body Mass Index (BMI)"
   ]
  },
  {
   "cell_type": "markdown",
   "metadata": {},
   "source": [
    "Oleh Muzzammil Fadli"
   ]
  },
  {
   "cell_type": "code",
   "execution_count": 5,
   "metadata": {},
   "outputs": [
    {
     "name": "stdout",
     "output_type": "stream",
     "text": [
      "Enter height in centimeters : 165\n",
      "Enter weight in kg          : 50\n",
      "Your BMI is : 18.36547291092746 and you are : Underweight\n"
     ]
    }
   ],
   "source": [
    "# Program dengan input\n",
    "\n",
    "height = float(input(\"Enter height in centimeters : \"))\n",
    "weight = float(input(\"Enter weight in kg          : \"))\n",
    "height2 = height/100\n",
    "\n",
    "# formula untuk menghitung bmi\n",
    "bmi = weight/(height2**2) \n",
    "\n",
    "print(\"Your BMI is : {0} and you are : \".format(bmi), end='')\n",
    "\n",
    "# kondisi\n",
    "if ( bmi < 15):\n",
    "   print(\"Very severely underweight\")\n",
    "\n",
    "elif ( bmi >= 15 and bmi < 16):\n",
    "   print(\"Severely underweight\")\n",
    "\n",
    "elif ( bmi >= 16 and bmi < 18.5):\n",
    "   print(\"Underweight\")\n",
    "\n",
    "elif ( bmi >= 18.5 and bmi < 25):\n",
    "   print(\"Normal (healthy weight)\")\n",
    "\n",
    "elif ( bmi >= 25 and bmi < 30):\n",
    "   print(\"Overweight\")\n",
    "\n",
    "elif ( bmi >= 30 and bmi < 35):\n",
    "   print(\"Moderately obese\")\n",
    "\n",
    "elif ( bmi >= 35 and bmi < 40):\n",
    "   print(\"Severely obese\")\n",
    "\n",
    "else:\n",
    "   print(\"Very severely obese\")"
   ]
  }
 ],
 "metadata": {
  "kernelspec": {
   "display_name": "Python 3",
   "language": "python",
   "name": "python3"
  },
  "language_info": {
   "codemirror_mode": {
    "name": "ipython",
    "version": 3
   },
   "file_extension": ".py",
   "mimetype": "text/x-python",
   "name": "python",
   "nbconvert_exporter": "python",
   "pygments_lexer": "ipython3",
   "version": "3.7.0"
  }
 },
 "nbformat": 4,
 "nbformat_minor": 2
}
